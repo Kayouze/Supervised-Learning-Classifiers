{
 "cells": [
  {
   "cell_type": "markdown",
   "metadata": {
    "id": "6WbbrEM-EHCG"
   },
   "source": []
  },
  {
   "cell_type": "code",
   "execution_count": 1,
   "metadata": {
    "id": "CRHwrv59EGG4"
   },
   "outputs": [],
   "source": [
    "import math"
   ]
  },
  {
   "cell_type": "code",
   "execution_count": 2,
   "metadata": {
    "id": "BbzpabSUEmaK"
   },
   "outputs": [],
   "source": [
    "import matplotlib.pyplot as plt"
   ]
  },
  {
   "cell_type": "code",
   "execution_count": 3,
   "metadata": {
    "id": "f5662hhkEsMi"
   },
   "outputs": [],
   "source": [
    "a=[4, 5, 10, 4, 3, 11, 14, 8, 10, 12]\n",
    "b =[21, 19, 24, 17, 16, 25, 24, 22, 21, 21]\n",
    "classes = [0, 0, 1, 0, 0, 1, 1, 0, 1, 1]\n"
   ]
  },
  {
   "cell_type": "code",
   "execution_count": 4,
   "metadata": {
    "colab": {
     "base_uri": "https://localhost:8080/",
     "height": 448
    },
    "id": "uxge59BqFEzR",
    "outputId": "314e49eb-dcb4-41c9-cfb9-073a0da67584"
   },
   "outputs": [
    {
     "name": "stderr",
     "output_type": "stream",
     "text": [
      "WARNING:matplotlib.legend:No artists with labels found to put in legend.  Note that artists whose label start with an underscore are ignored when legend() is called with no argument.\n"
     ]
    },
    {
     "data": {
      "image/png": "[encoded data removed]",
      "text/plain": [
       "<Figure size 640x480 with 1 Axes>"
      ]
     },
     "metadata": {},
     "output_type": "display_data"
    }
   ],
   "source": [
    "plt.scatter(a,b,c= classes)\n",
    "plt.plot (label= \"Knn classification of A vs B\")\n",
    "plt.legend()\n",
    "plt.show()"
   ]
  },
  {
   "cell_type": "code",
   "execution_count": 5,
   "metadata": {
    "colab": {
     "base_uri": "https://localhost:8080/"
    },
    "id": "92DhufblGhHz",
    "outputId": "46155352-6a16-4de3-9723-811d198b5f7e"
   },
   "outputs": [
    {
     "name": "stdout",
     "output_type": "stream",
     "text": [
      "[(4, 21), (5, 19), (10, 24), (4, 17), (3, 16), (11, 25), (14, 24), (8, 22), (10, 21), (12, 21)]\n",
      "[0, 0, 1, 0, 0, 1, 1, 0, 1, 1]\n"
     ]
    }
   ],
   "source": [
    "data = list(zip(a,b))\n",
    "print (data)\n",
    "print (classes)"
   ]
  },
  {
   "cell_type": "code",
   "execution_count": 6,
   "metadata": {
    "id": "-BZlMGBzFIxq"
   },
   "outputs": [],
   "source": [
    "new_point = (9, 24)"
   ]
  },
  {
   "cell_type": "code",
   "execution_count": 7,
   "metadata": {
    "id": "d8UBLdwcG-yX"
   },
   "outputs": [],
   "source": [
    " k = 3\n",
    "distances_with_classes= [(math.sqrt((x - new_point[0])**2 + (y - new_point[1])**2), cls)\n",
    "  for (x, y), cls in zip(data, classes)]\n",
    "#for (x, y), cls in zip(data, classes):\n",
    "#distance math.sqrt((x new_point[0])**2+(y-new_point(1))**2)\n",
    "#distances_with_classes.append((distance, cls))\n"
   ]
  },
  {
   "cell_type": "code",
   "execution_count": 8,
   "metadata": {
    "id": "s6ymdYbPIMcz"
   },
   "outputs": [],
   "source": [
    "distances_with_classes.sort()\n",
    "k_nearest= distances_with_classes[:k]\n"
   ]
  },
  {
   "cell_type": "code",
   "execution_count": 9,
   "metadata": {
    "id": "Np0x_MxBJ7j-"
   },
   "outputs": [],
   "source": [
    "k_nearest_classes=[cls for _, cls in k_nearest]\n",
    "\n"
   ]
  },
  {
   "cell_type": "code",
   "execution_count": 10,
   "metadata": {
    "colab": {
     "base_uri": "https://localhost:8080/"
    },
    "id": "kUh6fYhxK6uL",
    "outputId": "6051654a-9901-4f68-8ab7-b89a8ff7d3d2"
   },
   "outputs": [
    {
     "name": "stdout",
     "output_type": "stream",
     "text": [
      "the majority class for new point is: 1\n"
     ]
    }
   ],
   "source": [
    "majority_classes =max(set(k_nearest_classes), key=k_nearest_classes.count)\n",
    "print(\"the majority class for new point is:\", majority_classes)\n"
   ]
  },
  {
   "cell_type": "code",
   "execution_count": null,
   "metadata": {
    "id": "iLWvYkJkM3ST"
   },
   "outputs": [],
   "source": []
  }
 ],
 "metadata": {
  "colab": {
   "provenance": []
  },
  "kernelspec": {
   "display_name": "Python 3",
   "name": "python3"
  },
  "language_info": {
   "name": "python"
  }
 },
 "nbformat": 4,
 "nbformat_minor": 0
}
